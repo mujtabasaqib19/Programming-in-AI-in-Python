{
 "cells": [
  {
   "cell_type": "code",
   "execution_count": 108,
   "id": "4b2189ab",
   "metadata": {},
   "outputs": [
    {
     "name": "stdout",
     "output_type": "stream",
     "text": [
      "[22 24 26 28 30 32 34 36 38 40 42 44 46 48]\n"
     ]
    }
   ],
   "source": [
    "#q1\n",
    "import numpy as np\n",
    "even_arr=np.array([], dtype=int)\n",
    "for i in range(21,50):\n",
    "    if i%2==0:\n",
    "        even_arr=np.append(even_arr,i)\n",
    "print(even_arr)"
   ]
  },
  {
   "cell_type": "code",
   "execution_count": 53,
   "id": "5d9b6010",
   "metadata": {},
   "outputs": [
    {
     "name": "stdout",
     "output_type": "stream",
     "text": [
      "[[ 1  3  5]\n",
      " [ 7  9 11]\n",
      " [13 15 17]]\n",
      "1\n",
      "3\n",
      "5\n",
      "7\n",
      "9\n",
      "11\n",
      "13\n",
      "15\n",
      "17\n"
     ]
    }
   ],
   "source": [
    "#q2\n",
    "import numpy as np\n",
    "odd_arr=np.array([[1,3,5],[7,9,11],[13,15,17]])\n",
    "print(odd_arr)\n",
    "for i in odd_arr:\n",
    "    for j in i:\n",
    "        print(j)\n",
    "    "
   ]
  },
  {
   "cell_type": "code",
   "execution_count": 10,
   "id": "6d55ef1f",
   "metadata": {},
   "outputs": [
    {
     "name": "stdout",
     "output_type": "stream",
     "text": [
      "[[ 8 16 24]\n",
      " [32 40 48]\n",
      " [56 64 72]]\n",
      "\n",
      "\n",
      "[[ 8  0  0]\n",
      " [ 0 40  0]\n",
      " [ 0  0 72]]\n"
     ]
    }
   ],
   "source": [
    "#q3    \n",
    "import numpy as np\n",
    "even = np.array([[2,4,6],[8,10,12],[14,16,18]])\n",
    "even = np.multiply(even,4)\n",
    "print(even)\n",
    "print(\"\\n\")\n",
    "id_matrix = np.eye(3, dtype=int)\n",
    "Matrix=np.multiply(even,id_matrix)\n",
    "print(Matrix)"
   ]
  },
  {
   "cell_type": "code",
   "execution_count": 105,
   "id": "0c03457d",
   "metadata": {},
   "outputs": [
    {
     "name": "stdout",
     "output_type": "stream",
     "text": [
      "[('Attaullah', 155, '10th') ('Mujtaba', 160, '11th')\n",
      " ('Hilal', 170, '11th')]\n"
     ]
    }
   ],
   "source": [
    "#q4\n",
    "import numpy as np\n",
    "data = np.array([('Mujtaba',160,'11th'),('Hilal',170,'11th'),('Attaullah',155,'10th')],\n",
    "                        dtype={'names':('name','height','class'),\n",
    "                               'formats':('U10','i4','U10')})\n",
    "data.sort(order=['class','height'])\n",
    "print(data)"
   ]
  },
  {
   "cell_type": "code",
   "execution_count": 8,
   "id": "a20c80f4",
   "metadata": {},
   "outputs": [
    {
     "name": "stdout",
     "output_type": "stream",
     "text": [
      "[[ 5  9  9  9]\n",
      " [ 2 10 10  2]\n",
      " [ 2  9 10  9]\n",
      " [ 5  2 10  5]]\n",
      "\n",
      "\n",
      "[[ 5  0  0  0]\n",
      " [ 0 10  0  0]\n",
      " [ 0  0 10  0]\n",
      " [ 0  0  0  5]]\n",
      "\n",
      "\n",
      "[[ 6  3  5  7]\n",
      " [ 9 21 13 15]\n",
      " [17 19 31 23]\n",
      " [25 27 29 36]]\n"
     ]
    }
   ],
   "source": [
    "#q5\n",
    "import numpy as np\n",
    "from numpy import random\n",
    "odd=[[1,3,5,7],[9,11,13,15],[17,19,21,23],[25,27,29,31]]\n",
    "arr=random.choice([2,5,9,10], size=(4,4))\n",
    "print(arr)\n",
    "print(\"\\n\")\n",
    "id_matrix=np.eye(4, dtype=int)\n",
    "matrix=np.multiply(arr,id_matrix)\n",
    "print(matrix)\n",
    "print(\"\\n\")\n",
    "ans=np.add(matrix,odd)\n",
    "print(ans)\n"
   ]
  },
  {
   "cell_type": "code",
   "execution_count": 6,
   "id": "b5f6f156",
   "metadata": {},
   "outputs": [
    {
     "name": "stdout",
     "output_type": "stream",
     "text": [
      "[[2 3 5]\n",
      " [4 5 7]\n",
      " [7 8 9]\n",
      " [4 6 7]\n",
      " [7 8 9]]\n",
      "\n",
      "\n",
      "[[11 10]\n",
      " [ 9  8]\n",
      " [ 5  6]]\n",
      "\n",
      "\n",
      "[[ 74  74]\n",
      " [124 122]\n",
      " [194 188]\n",
      " [133 130]\n",
      " [194 188]]\n"
     ]
    }
   ],
   "source": [
    "#q6\n",
    "import numpy as np\n",
    "a=np.array([[2,3,5],[4,5,7],[7,8,9],[4,6,7],[7,8,9]])\n",
    "print(a)\n",
    "b=np.array([[11,10],[9,8],[5,6]])\n",
    "print(\"\\n\")\n",
    "print(b)\n",
    "print(\"\\n\")\n",
    "matrix=np.dot(a,b)\n",
    "print(matrix)"
   ]
  },
  {
   "cell_type": "code",
   "execution_count": 9,
   "id": "ddc1ed89",
   "metadata": {},
   "outputs": [],
   "source": [
    "#q7\n",
    "import numpy as np\n",
    "from numpy import random\n",
    "x=random.randint(100, size=(1000))\n",
    "with open(\"stats.txt\",\"w\") as f:\n",
    "    f.write(\"Average: {}\\n\".format(np.average(x)))\n",
    "    f.write(\"Variance: {}\\n\".format(np.var(x)))\n",
    "    f.write(\"Standard deviation: {}\\n\".format(np.std(x)))\n",
    "f.close()"
   ]
  }
 ],
 "metadata": {
  "kernelspec": {
   "display_name": "Python 3 (ipykernel)",
   "language": "python",
   "name": "python3"
  },
  "language_info": {
   "codemirror_mode": {
    "name": "ipython",
    "version": 3
   },
   "file_extension": ".py",
   "mimetype": "text/x-python",
   "name": "python",
   "nbconvert_exporter": "python",
   "pygments_lexer": "ipython3",
   "version": "3.11.4"
  }
 },
 "nbformat": 4,
 "nbformat_minor": 5
}
