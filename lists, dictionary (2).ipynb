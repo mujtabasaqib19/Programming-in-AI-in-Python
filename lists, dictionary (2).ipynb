{
 "cells": [
  {
   "cell_type": "code",
   "execution_count": 7,
   "id": "a9c51b8f",
   "metadata": {},
   "outputs": [
    {
     "name": "stdout",
     "output_type": "stream",
     "text": [
      "How many numbers you want to enter in the list: 3\n",
      "Enter number 5\n",
      "Enter number 5\n",
      "Enter number 5\n",
      "The addition of list elemts is 15\n"
     ]
    }
   ],
   "source": [
    "List = []\n",
    "x = int(input('How many numbers you want to enter in the list: '))\n",
    "for n in range(x):\n",
    "    y = int(input('Enter number '))\n",
    "    List.append(y)\n",
    "print(\"The addition of list elemts is\",sum(List))\n",
    "\n"
   ]
  },
  {
   "cell_type": "code",
   "execution_count": null,
   "id": "e3fb0a2e",
   "metadata": {},
   "outputs": [],
   "source": [
    "n = int(input(\"How many numbers in array?\\n\"))\n",
    "a = []\n",
    "\n",
    "for i in range(n):\n",
    "    num = int(input(\"Number {}: \".format(i)))\n",
    "    a.append(num)\n",
    "\n",
    "count = 0\n",
    "print(\"\\nEven numbers in the list are:\")\n",
    "for num in a:\n",
    "    if num % 2 == 0:\n",
    "        print(num, end=\" \")\n",
    "        count += 1\n",
    "\n",
    "print(\"\\nCount is\", count)\n"
   ]
  },
  {
   "cell_type": "code",
   "execution_count": 8,
   "id": "53626c4f",
   "metadata": {},
   "outputs": [
    {
     "name": "stdout",
     "output_type": "stream",
     "text": [
      "How many numbers in array?\n",
      "4\n",
      "Number 0: 3\n",
      "Number 1: 6\n",
      "Number 2: 8\n",
      "Number 3: 2\n",
      "\n",
      "Even numbers in the list are:\n",
      "6 8 2 \n",
      "Count is 3\n"
     ]
    }
   ],
   "source": [
    "n = int(input(\"How many numbers in array?\\n\"))\n",
    "a = []\n",
    "\n",
    "for i in range(n):\n",
    "    num = int(input(\"Number {}: \".format(i)))\n",
    "    a.append(num)\n",
    "\n",
    "count = 0\n",
    "print(\"\\nEven numbers in the list are:\")\n",
    "for num in a:\n",
    "    if num % 2 == 0:\n",
    "        print(num, end=\" \")\n",
    "        count += 1\n",
    "\n",
    "print(\"\\nCount is\", count)\n"
   ]
  },
  {
   "cell_type": "code",
   "execution_count": 9,
   "id": "9f727598",
   "metadata": {},
   "outputs": [
    {
     "name": "stdout",
     "output_type": "stream",
     "text": [
      "1\n",
      "2\n",
      "Fizz\n",
      "4\n",
      "Buzz\n",
      "Fizz\n",
      "7\n",
      "8\n",
      "Fizz\n",
      "Buzz\n",
      "11\n",
      "Fizz\n",
      "13\n",
      "14\n",
      "FizzBuzz\n",
      "16\n",
      "17\n",
      "Fizz\n",
      "19\n",
      "Buzz\n",
      "Fizz\n",
      "22\n",
      "23\n",
      "Fizz\n",
      "Buzz\n",
      "26\n",
      "Fizz\n",
      "28\n",
      "29\n",
      "FizzBuzz\n",
      "31\n",
      "32\n",
      "Fizz\n",
      "34\n",
      "Buzz\n",
      "Fizz\n",
      "37\n",
      "38\n",
      "Fizz\n",
      "Buzz\n",
      "41\n",
      "Fizz\n",
      "43\n",
      "44\n",
      "FizzBuzz\n",
      "46\n",
      "47\n",
      "Fizz\n",
      "49\n",
      "Buzz\n"
     ]
    }
   ],
   "source": [
    "for num in range(1, 51):\n",
    "    if num % 3 == 0 and num % 5 == 0:\n",
    "        print(\"FizzBuzz\")\n",
    "    elif num % 3 == 0:\n",
    "        print(\"Fizz\")\n",
    "    elif num % 5 == 0:\n",
    "        print(\"Buzz\")\n",
    "    else:\n",
    "        print(num)\n",
    "\n"
   ]
  },
  {
   "cell_type": "code",
   "execution_count": 10,
   "id": "43e62c3f",
   "metadata": {},
   "outputs": [
    {
     "name": "stdout",
     "output_type": "stream",
     "text": [
      "Enter weight 12\n",
      "Enter height 6\n",
      "0.3333333333333333\n"
     ]
    }
   ],
   "source": [
    "weight=int(input(\"Enter weight \"))\n",
    "height=int(input(\"Enter height \"))\n",
    "BMI=weight/height**2\n",
    "print(BMI)"
   ]
  },
  {
   "cell_type": "code",
   "execution_count": 11,
   "id": "c6d7fa0e",
   "metadata": {},
   "outputs": [
    {
     "name": "stdout",
     "output_type": "stream",
     "text": [
      "Enter first number 7\n",
      "Enter second number 7\n",
      "Enter number \n",
      "1.addition\n",
      "2.substract\n",
      "3.multiplication\n",
      "4.division 3\n",
      "49\n"
     ]
    }
   ],
   "source": [
    "num1=int(input(\"Enter first number \"))\n",
    "num2=int(input(\"Enter second number \"))\n",
    "\n",
    "add=num1--num2\n",
    "substraction=num1-num2\n",
    "division=num1/num2\n",
    "multiply=num1*num2\n",
    "\n",
    "oper=int(input(\"Enter number \\n1.addition\\n2.substract\\n3.multiplication\\n4.division \"))\n",
    "if oper==1:\n",
    "    print(add)\n",
    "elif oper==2:\n",
    "    print(substraction)\n",
    "elif oper==3:\n",
    "    print(multiply)\n",
    "elif oper==4:\n",
    "    print(division)\n",
    "else:\n",
    "    print(\"invalid choice\")"
   ]
  },
  {
   "cell_type": "code",
   "execution_count": 12,
   "id": "4b31a7e4",
   "metadata": {},
   "outputs": [
    {
     "name": "stdout",
     "output_type": "stream",
     "text": [
      "Enter elements in list: 3\n",
      "The largest number in the list is: 3\n"
     ]
    }
   ],
   "source": [
    "num = input(\"Enter elements in list: \")\n",
    "num_list = [int(x) for x in num.split()]\n",
    "\n",
    "largest_number = num_list[0]\n",
    "for num in num_list:\n",
    "    if num > largest_number:\n",
    "        largest_number = num\n",
    "\n",
    "print(\"The largest number in the list is:\", largest_number)\n",
    "\n"
   ]
  },
  {
   "cell_type": "code",
   "execution_count": 16,
   "id": "edd2261d",
   "metadata": {},
   "outputs": [
    {
     "name": "stdout",
     "output_type": "stream",
     "text": [
      "How many numbers in array?\n",
      "5\n",
      "Number 0: 33\n",
      "Number 1: 56\n",
      "Number 2: 78\n",
      "Number 3: 22\n",
      "Number 4: 98\n",
      "Largest number is 78 "
     ]
    }
   ],
   "source": [
    "n = int(input(\"How many numbers in array?\\n\"))\n",
    "a = []\n",
    "\n",
    "for i in range(n):\n",
    "    num = int(input(\"Number {}: \".format(i)))\n",
    "    a.append(num)\n",
    "\n",
    "print(\"Largest number is\", end=\" \")\n",
    "for i in range(n):\n",
    "    if i < n - 1 and a[i] > a[i+1]:\n",
    "        print(a[i], end=\" \")\n"
   ]
  },
  {
   "cell_type": "code",
   "execution_count": 19,
   "id": "a90754b2",
   "metadata": {},
   "outputs": [
    {
     "name": "stdout",
     "output_type": "stream",
     "text": [
      "How many numbers in array?\n",
      "4\n",
      "Number 0: 56\n",
      "Number 1: 78\n",
      "Number 2: 98\n",
      "Number 3: 34\n",
      "Largest number is 98\n"
     ]
    }
   ],
   "source": [
    "n = int(input(\"How many numbers in array?\\n\"))\n",
    "a = []\n",
    "\n",
    "for i in range(n):\n",
    "    num = int(input(\"Number {}: \".format(i)))\n",
    "    a.append(num)\n",
    "\n",
    "largest_number = a[0]\n",
    "for i in range(n):\n",
    "    if a[i] > largest_number:\n",
    "        largest_number = a[i]\n",
    "\n",
    "print(\"Largest number is\", largest_number)\n"
   ]
  },
  {
   "cell_type": "code",
   "execution_count": 21,
   "id": "4712507c",
   "metadata": {},
   "outputs": [
    {
     "name": "stdout",
     "output_type": "stream",
     "text": [
      "Enter a number: 5\n",
      "Multiplication table of 5\n",
      "5 x 1 = 5\n",
      "5 x 2 = 10\n",
      "5 x 3 = 15\n",
      "5 x 4 = 20\n",
      "5 x 5 = 25\n",
      "5 x 6 = 30\n",
      "5 x 7 = 35\n",
      "5 x 8 = 40\n",
      "5 x 9 = 45\n",
      "5 x 10 = 50\n"
     ]
    }
   ],
   "source": [
    "num = int(input(\"Enter a number: \"))\n",
    "print(\"Multiplication table of\",num)\n",
    "for i in range(1, 11):\n",
    "    print(num,\"x\",i,\"=\",num*i)\n"
   ]
  },
  {
   "cell_type": "code",
   "execution_count": 1,
   "id": "4d0fe634",
   "metadata": {
    "scrolled": true
   },
   "outputs": [
    {
     "name": "stdout",
     "output_type": "stream",
     "text": [
      "Enter the name of subject 1: chem\n",
      "Enter marks for chem: 67\n",
      "Enter the name of subject 2: phys\n",
      "Enter marks for phys: 78\n",
      "Enter the name of subject 3: hist\n",
      "Enter marks for hist: 88\n",
      "\n",
      "Marks Summary:\n",
      "chem: 67.0\n",
      "phys: 78.0\n",
      "hist: 88.0\n",
      "\n",
      "Average Marks: 77.66666666666667\n",
      "Percentage: 77.66666666666666 %\n"
     ]
    }
   ],
   "source": [
    "\n",
    "        marks_dict = {}\n",
    "\n",
    "        for i in range(3):\n",
    "            subject = input(f\"Enter the name of subject {i + 1}: \")\n",
    "            marks = float(input(f\"Enter marks for {subject}: \"))\n",
    "            marks_dict[subject] = marks\n",
    "\n",
    "        total_marks = sum(marks_dict.values())\n",
    "        num_subjects = len(marks_dict)\n",
    "\n",
    "        average_marks = total_marks / num_subjects\n",
    "        percentage = (total_marks / (num_subjects * 100)) * 100\n",
    "\n",
    "        print(\"\\nMarks Summary:\")\n",
    "        for subject, marks in marks_dict.items():\n",
    "            print(f\"{subject}: {marks}\")\n",
    "\n",
    "        print(\"\\nAverage Marks:\", average_marks)\n",
    "        print(\"Percentage:\", percentage, \"%\")\n",
    "\n",
    "    "
   ]
  },
  {
   "cell_type": "code",
   "execution_count": 4,
   "id": "0bf4b88b",
   "metadata": {},
   "outputs": [
    {
     "name": "stdout",
     "output_type": "stream",
     "text": [
      "Dictionary of squares \n",
      "1:1\n",
      "2:4\n",
      "3:9\n",
      "4:16\n",
      "5:25\n",
      "6:36\n",
      "7:49\n",
      "8:64\n",
      "9:81\n",
      "10:100\n",
      "11:121\n",
      "12:144\n",
      "13:169\n",
      "14:196\n",
      "15:225\n"
     ]
    }
   ],
   "source": [
    "square_dict = {}\n",
    "\n",
    "for num in range(1, 16):\n",
    "    square_dict[num] = num ** 2\n",
    "\n",
    "print(\"Dictionary of squares \")\n",
    "for key, value in square_dict.items():\n",
    "    print(str(key) + \":\" + str(value))\n"
   ]
  },
  {
   "cell_type": "code",
   "execution_count": null,
   "id": "00b9a093",
   "metadata": {},
   "outputs": [],
   "source": []
  }
 ],
 "metadata": {
  "kernelspec": {
   "display_name": "Python 3 (ipykernel)",
   "language": "python",
   "name": "python3"
  },
  "language_info": {
   "codemirror_mode": {
    "name": "ipython",
    "version": 3
   },
   "file_extension": ".py",
   "mimetype": "text/x-python",
   "name": "python",
   "nbconvert_exporter": "python",
   "pygments_lexer": "ipython3",
   "version": "3.11.4"
  }
 },
 "nbformat": 4,
 "nbformat_minor": 5
}
